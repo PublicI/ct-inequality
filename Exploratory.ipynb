{
 "cells": [
  {
   "cell_type": "code",
   "execution_count": 19,
   "metadata": {},
   "outputs": [
    {
     "data": {
      "text/html": [
       "<div>\n",
       "<style scoped>\n",
       "    .dataframe tbody tr th:only-of-type {\n",
       "        vertical-align: middle;\n",
       "    }\n",
       "\n",
       "    .dataframe tbody tr th {\n",
       "        vertical-align: top;\n",
       "    }\n",
       "\n",
       "    .dataframe thead th {\n",
       "        text-align: right;\n",
       "    }\n",
       "</style>\n",
       "<table border=\"1\" class=\"dataframe\">\n",
       "  <thead>\n",
       "    <tr style=\"text-align: right;\">\n",
       "      <th></th>\n",
       "      <th>GEO.id2</th>\n",
       "      <th>GEO.display-label</th>\n",
       "      <th>95</th>\n",
       "      <th>20</th>\n",
       "      <th>9520</th>\n",
       "    </tr>\n",
       "  </thead>\n",
       "  <tbody>\n",
       "    <tr>\n",
       "      <th>0</th>\n",
       "      <td>11</td>\n",
       "      <td>District of Columbia</td>\n",
       "      <td>350300.0</td>\n",
       "      <td>20813</td>\n",
       "      <td>17.515000</td>\n",
       "    </tr>\n",
       "    <tr>\n",
       "      <th>1</th>\n",
       "      <td>72</td>\n",
       "      <td>Puerto Rico</td>\n",
       "      <td>91989.0</td>\n",
       "      <td>6687</td>\n",
       "      <td>13.756393</td>\n",
       "    </tr>\n",
       "    <tr>\n",
       "      <th>2</th>\n",
       "      <td>36</td>\n",
       "      <td>New York</td>\n",
       "      <td>265000.0</td>\n",
       "      <td>23187</td>\n",
       "      <td>11.521739</td>\n",
       "    </tr>\n",
       "    <tr>\n",
       "      <th>3</th>\n",
       "      <td>6</td>\n",
       "      <td>California</td>\n",
       "      <td>272000.0</td>\n",
       "      <td>26697</td>\n",
       "      <td>10.461538</td>\n",
       "    </tr>\n",
       "    <tr>\n",
       "      <th>4</th>\n",
       "      <td>22</td>\n",
       "      <td>Louisiana</td>\n",
       "      <td>180475.0</td>\n",
       "      <td>17329</td>\n",
       "      <td>10.414623</td>\n",
       "    </tr>\n",
       "  </tbody>\n",
       "</table>\n",
       "</div>"
      ],
      "text/plain": [
       "   GEO.id2     GEO.display-label        95     20       9520\n",
       "0       11  District of Columbia  350300.0  20813  17.515000\n",
       "1       72           Puerto Rico   91989.0   6687  13.756393\n",
       "2       36              New York  265000.0  23187  11.521739\n",
       "3        6            California  272000.0  26697  10.461538\n",
       "4       22             Louisiana  180475.0  17329  10.414623"
      ]
     },
     "execution_count": 19,
     "metadata": {},
     "output_type": "execute_result"
    }
   ],
   "source": [
    "import pandas\n",
    "%matplotlib inline\n",
    "\n",
    "ninetyfivetwenty = pandas.read_csv(\"states_9520.csv\")[[\"GEO.id2\",\"GEO.display-label\",\"95\",\"20\",\"9520\"]]\n",
    "ninetyfivetwenty.head()"
   ]
  },
  {
   "cell_type": "code",
   "execution_count": 25,
   "metadata": {},
   "outputs": [
    {
     "data": {
      "text/plain": [
       "<matplotlib.axes._subplots.AxesSubplot at 0x117a76d30>"
      ]
     },
     "execution_count": 25,
     "metadata": {},
     "output_type": "execute_result"
    },
    {
     "data": {
      "image/png": "[encoded data removed]",
      "text/plain": [
       "<matplotlib.figure.Figure at 0x117a76780>"
      ]
     },
     "metadata": {},
     "output_type": "display_data"
    }
   ],
   "source": [
    "urban = pandas.read_excel(\"excel/PctUrbanRural_State.xls\")\n",
    "\n",
    "urban_sub = urban[[\"STATE\",\"POPPCT_URBAN\",\"POPDEN_URBAN\"]].set_index(\"STATE\")\n",
    "\n",
    "ninetyfivetwenty.join(urban_sub,on=\"GEO.id2\").plot(kind=\"scatter\",x=\"POPPCT_URBAN\",y=\"9520\")"
   ]
  }
 ],
 "metadata": {
  "kernelspec": {
   "display_name": "Python 3",
   "language": "python",
   "name": "python3"
  },
  "language_info": {
   "codemirror_mode": {
    "name": "ipython",
    "version": 3
   },
   "file_extension": ".py",
   "mimetype": "text/x-python",
   "name": "python",
   "nbconvert_exporter": "python",
   "pygments_lexer": "ipython3",
   "version": "3.6.4"
  }
 },
 "nbformat": 4,
 "nbformat_minor": 2
}
